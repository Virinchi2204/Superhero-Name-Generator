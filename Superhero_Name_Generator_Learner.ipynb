{
  "cells": [
    {
      "cell_type": "markdown",
      "metadata": {
        "id": "21XXWP7Fpt2L"
      },
      "source": [
        "# Superhero (and Supervillain) Name Generator\n",
        "\n",
        "---\n",
        "\n",
        "[Superhero Names Dataset](https://github.com/Virinchi2204/Superheroes)"
      ]
    },
    {
      "cell_type": "markdown",
      "metadata": {
        "id": "H6P0NU5Cpt2R"
      },
      "source": [
        "## Task 2\n",
        "\n",
        "1. Import the data\n",
        "2. Create a tokenizer\n",
        "3. Char to index and Index to char dictionaries"
      ]
    },
    {
      "cell_type": "code",
      "execution_count": 1,
      "metadata": {
        "id": "srULhalZpt2M",
        "colab": {
          "base_uri": "https://localhost:8080/"
        },
        "outputId": "b13b9e86-f318-458c-c2ed-9c0a75a65d2b"
      },
      "outputs": [
        {
          "output_type": "stream",
          "name": "stdout",
          "text": [
            "Cloning into 'Superheroes'...\n",
            "remote: Enumerating objects: 3, done.\u001b[K\n",
            "remote: Counting objects: 100% (3/3), done.\u001b[K\n",
            "remote: Compressing objects: 100% (2/2), done.\u001b[K\n",
            "remote: Total 3 (delta 0), reused 0 (delta 0), pack-reused 0\u001b[K\n",
            "Unpacking objects: 100% (3/3), 45.96 KiB | 1.39 MiB/s, done.\n"
          ]
        }
      ],
      "source": [
        "!git clone https://github.com/Virinchi2204/Superheroes"
      ]
    },
    {
      "cell_type": "code",
      "execution_count": 2,
      "metadata": {
        "id": "uq4CLmsLpt2P",
        "colab": {
          "base_uri": "https://localhost:8080/",
          "height": 36
        },
        "outputId": "7dd57d70-14f8-45f9-89ff-ae8d68322fe1"
      },
      "outputs": [
        {
          "output_type": "execute_result",
          "data": {
            "text/plain": [
              "'jumpa\\t\\ndoctor fate\\t\\nstarlight\\t\\nisildur\\t\\nlasher\\t\\nvarvara\\t\\nthe target\\t\\naxel\\t\\nbattra\\t\\nchangeling\\t\\npyrrh'"
            ],
            "application/vnd.google.colaboratory.intrinsic+json": {
              "type": "string"
            }
          },
          "metadata": {},
          "execution_count": 2
        }
      ],
      "source": [
        "with open('Superheroes/superheroes.txt', 'r') as f:\n",
        "  data=f.read()\n",
        "data[:100]"
      ]
    },
    {
      "cell_type": "code",
      "execution_count": 3,
      "metadata": {
        "id": "JqhtLuAHpt2R",
        "colab": {
          "base_uri": "https://localhost:8080/"
        },
        "outputId": "cc286144-7f20-4423-e929-4c20edb1da8c"
      },
      "outputs": [
        {
          "output_type": "stream",
          "name": "stdout",
          "text": [
            "2.12.0\n"
          ]
        }
      ],
      "source": [
        "import tensorflow as tf\n",
        "print(tf.__version__)"
      ]
    },
    {
      "cell_type": "code",
      "execution_count": 4,
      "metadata": {
        "id": "95Lo1Yqzpt2T"
      },
      "outputs": [],
      "source": [
        "tokenizer = tf.keras.preprocessing.text.Tokenizer(\n",
        "    filters='!\"#$%&()*+,-./:;<=>?@[\\\\]^_`{|}~',\n",
        "    split='\\n',\n",
        ")"
      ]
    },
    {
      "cell_type": "code",
      "execution_count": 5,
      "metadata": {
        "id": "qYfC4sj2pt2V"
      },
      "outputs": [],
      "source": [
        "tokenizer.fit_on_texts(data)"
      ]
    },
    {
      "cell_type": "code",
      "execution_count": 6,
      "metadata": {
        "id": "EO4-dPM6pt2X",
        "colab": {
          "base_uri": "https://localhost:8080/"
        },
        "outputId": "496da116-f022-46ea-ea0e-6827bb4221b6"
      },
      "outputs": [
        {
          "output_type": "stream",
          "name": "stdout",
          "text": [
            "{1: '\\t', 2: 'a', 3: 'e', 4: 'r', 5: 'o', 6: 'n', 7: 'i', 8: ' ', 9: 't', 10: 's', 11: 'l', 12: 'm', 13: 'h', 14: 'd', 15: 'c', 16: 'u', 17: 'g', 18: 'k', 19: 'b', 20: 'p', 21: 'y', 22: 'w', 23: 'f', 24: 'v', 25: 'j', 26: 'z', 27: 'x', 28: 'q'}\n"
          ]
        }
      ],
      "source": [
        "char_to_index = tokenizer.word_index\n",
        "index_to_char = dict((v,k) for k, v in char_to_index.items())\n",
        "print(index_to_char)"
      ]
    },
    {
      "cell_type": "markdown",
      "metadata": {
        "id": "SMwtIw_Bpt2Z"
      },
      "source": [
        "## Task 3\n",
        "\n",
        "1. Converting between names and sequences"
      ]
    },
    {
      "cell_type": "code",
      "execution_count": 7,
      "metadata": {
        "id": "N7iQLIXzpt2a",
        "colab": {
          "base_uri": "https://localhost:8080/"
        },
        "outputId": "2a1959f1-dbe0-49f4-af43-47cd9bc120c7"
      },
      "outputs": [
        {
          "output_type": "execute_result",
          "data": {
            "text/plain": [
              "['jumpa\\t',\n",
              " 'doctor fate\\t',\n",
              " 'starlight\\t',\n",
              " 'isildur\\t',\n",
              " 'lasher\\t',\n",
              " 'varvara\\t',\n",
              " 'the target\\t',\n",
              " 'axel\\t',\n",
              " 'battra\\t',\n",
              " 'changeling\\t']"
            ]
          },
          "metadata": {},
          "execution_count": 7
        }
      ],
      "source": [
        "names=data.splitlines()\n",
        "names[:10]"
      ]
    },
    {
      "cell_type": "code",
      "execution_count": 8,
      "metadata": {
        "id": "n_-TTfqipt2c",
        "colab": {
          "base_uri": "https://localhost:8080/"
        },
        "outputId": "bab216ca-1139-415d-bc54-49c003a2e77d"
      },
      "outputs": [
        {
          "output_type": "execute_result",
          "data": {
            "text/plain": [
              "[[25], [16], [12], [20], [2], [1]]"
            ]
          },
          "metadata": {},
          "execution_count": 8
        }
      ],
      "source": [
        "tokenizer.texts_to_sequences(names[0])"
      ]
    },
    {
      "cell_type": "code",
      "execution_count": 9,
      "metadata": {
        "id": "P6IsKH1Upt2e"
      },
      "outputs": [],
      "source": [
        "def NameToSequence(name):\n",
        "  return[tokenizer.texts_to_sequences(c)[0][0] for c in name]"
      ]
    },
    {
      "cell_type": "code",
      "execution_count": 10,
      "metadata": {
        "id": "TuLUiMP3pt2g",
        "colab": {
          "base_uri": "https://localhost:8080/"
        },
        "outputId": "28fb27cc-7813-476d-da1a-41e7c6d19e0c"
      },
      "outputs": [
        {
          "output_type": "execute_result",
          "data": {
            "text/plain": [
              "[25, 16, 12, 20, 2, 1]"
            ]
          },
          "metadata": {},
          "execution_count": 10
        }
      ],
      "source": [
        "NameToSequence(names[0])"
      ]
    },
    {
      "cell_type": "code",
      "execution_count": 11,
      "metadata": {
        "id": "yFUYhimKpt2h"
      },
      "outputs": [],
      "source": [
        "def SequenceToName(seq):\n",
        "  return ''.join([index_to_char[i]for i in seq if i!=0])"
      ]
    },
    {
      "cell_type": "code",
      "execution_count": 12,
      "metadata": {
        "id": "ROhCqmhLpt2k",
        "colab": {
          "base_uri": "https://localhost:8080/",
          "height": 36
        },
        "outputId": "8e8601d3-a447-43b9-9562-4d64d1c117c5"
      },
      "outputs": [
        {
          "output_type": "execute_result",
          "data": {
            "text/plain": [
              "'jumpa\\t'"
            ],
            "application/vnd.google.colaboratory.intrinsic+json": {
              "type": "string"
            }
          },
          "metadata": {},
          "execution_count": 12
        }
      ],
      "source": [
        "SequenceToName(NameToSequence(names[0]))"
      ]
    },
    {
      "cell_type": "markdown",
      "metadata": {
        "id": "uCbAzsNjpt2m"
      },
      "source": [
        "## Task 4\n",
        "\n",
        "1. Creating sequences\n",
        "2. Padding all sequences"
      ]
    },
    {
      "cell_type": "code",
      "execution_count": 13,
      "metadata": {
        "id": "zstNn-0dpt2m"
      },
      "outputs": [],
      "source": [
        "from ast import Name\n",
        "sequences=[]\n",
        "for name in names:\n",
        "  seq=NameToSequence(name)\n",
        "  if len(seq)>=2:\n",
        "    sequences += [seq[:i] for i in range(2, len(seq)+1)]"
      ]
    },
    {
      "cell_type": "code",
      "execution_count": 14,
      "metadata": {
        "id": "BjRTMysvpt2o",
        "colab": {
          "base_uri": "https://localhost:8080/"
        },
        "outputId": "263c102f-a28c-4035-ce48-e4d863cd5638"
      },
      "outputs": [
        {
          "output_type": "execute_result",
          "data": {
            "text/plain": [
              "[[25, 16],\n",
              " [25, 16, 12],\n",
              " [25, 16, 12, 20],\n",
              " [25, 16, 12, 20, 2],\n",
              " [25, 16, 12, 20, 2, 1],\n",
              " [14, 5],\n",
              " [14, 5, 15],\n",
              " [14, 5, 15, 9],\n",
              " [14, 5, 15, 9, 5],\n",
              " [14, 5, 15, 9, 5, 4]]"
            ]
          },
          "metadata": {},
          "execution_count": 14
        }
      ],
      "source": [
        "sequences[:10]"
      ]
    },
    {
      "cell_type": "code",
      "execution_count": 15,
      "metadata": {
        "id": "SR68pu2tpt2q",
        "colab": {
          "base_uri": "https://localhost:8080/"
        },
        "outputId": "68e558b2-0a63-4ca6-9c4e-8ae5fe55df42"
      },
      "outputs": [
        {
          "output_type": "stream",
          "name": "stdout",
          "text": [
            "33\n"
          ]
        }
      ],
      "source": [
        "max_len=max([len(x)for x in sequences])\n",
        "print(max_len)"
      ]
    },
    {
      "cell_type": "code",
      "execution_count": 16,
      "metadata": {
        "id": "h_1BtWO7pt2r",
        "colab": {
          "base_uri": "https://localhost:8080/"
        },
        "outputId": "749ef749-c090-4461-e0ca-da169b0c5962"
      },
      "outputs": [
        {
          "output_type": "stream",
          "name": "stdout",
          "text": [
            "[ 0  0  0  0  0  0  0  0  0  0  0  0  0  0  0  0  0  0  0  0  0  0  0  0\n",
            "  0  0  0  0  0  0  0 25 16]\n"
          ]
        }
      ],
      "source": [
        "padded_sequences=tf.keras.preprocessing.sequence.pad_sequences(\n",
        "    sequences, padding='pre',\n",
        "    maxlen=max_len\n",
        ")\n",
        "print(padded_sequences[0])"
      ]
    },
    {
      "cell_type": "code",
      "execution_count": 17,
      "metadata": {
        "id": "sPlrLRpSpt2t",
        "colab": {
          "base_uri": "https://localhost:8080/"
        },
        "outputId": "bf1d20c7-cf0d-4630-ca2f-c022f619463d"
      },
      "outputs": [
        {
          "output_type": "execute_result",
          "data": {
            "text/plain": [
              "(88279, 33)"
            ]
          },
          "metadata": {},
          "execution_count": 17
        }
      ],
      "source": [
        "padded_sequences.shape"
      ]
    },
    {
      "cell_type": "markdown",
      "metadata": {
        "id": "TRLL0YizBfdF"
      },
      "source": [
        "## Task 5: Creating Training and Validation Sets\n",
        "\n",
        "1. Creating training and validation sets"
      ]
    },
    {
      "cell_type": "code",
      "execution_count": 18,
      "metadata": {
        "id": "BE4BIeSnpt2v",
        "colab": {
          "base_uri": "https://localhost:8080/"
        },
        "outputId": "9ca54943-f641-40cc-831a-028a8772b1d4"
      },
      "outputs": [
        {
          "output_type": "stream",
          "name": "stdout",
          "text": [
            "(88279, 32) (88279,)\n"
          ]
        }
      ],
      "source": [
        "x, y = padded_sequences[:, :-1], padded_sequences[:, -1]\n",
        "print(x.shape, y.shape)"
      ]
    },
    {
      "cell_type": "code",
      "execution_count": 19,
      "metadata": {
        "id": "voyv_5GPBfdM",
        "colab": {
          "base_uri": "https://localhost:8080/"
        },
        "outputId": "48f1cea3-3454-49e0-8319-9efa0a8da561"
      },
      "outputs": [
        {
          "output_type": "stream",
          "name": "stdout",
          "text": [
            "(66209, 32) (66209,)\n",
            "(22070, 32) (22070,)\n"
          ]
        }
      ],
      "source": [
        "from sklearn.model_selection import train_test_split\n",
        "x_train, x_test, y_train, y_test = train_test_split(x, y)\n",
        "print(x_train.shape, y_train.shape)\n",
        "print(x_test.shape, y_test.shape)"
      ]
    },
    {
      "cell_type": "code",
      "execution_count": 20,
      "metadata": {
        "id": "cgqRZtqnpt2x",
        "colab": {
          "base_uri": "https://localhost:8080/"
        },
        "outputId": "4fe004c7-4948-4134-aec3-bb610b2ff3c1"
      },
      "outputs": [
        {
          "output_type": "stream",
          "name": "stdout",
          "text": [
            "29\n"
          ]
        }
      ],
      "source": [
        "num_chars=len(char_to_index.keys())+1\n",
        "print(num_chars)"
      ]
    },
    {
      "cell_type": "markdown",
      "metadata": {
        "id": "IGUHWfKxBfdM"
      },
      "source": [
        "## Task 6: Creating the Model"
      ]
    },
    {
      "cell_type": "code",
      "execution_count": 21,
      "metadata": {
        "id": "efbIGpgbBfdM",
        "colab": {
          "base_uri": "https://localhost:8080/"
        },
        "outputId": "c119288d-a05b-4d2e-c068-84ffe03412f0"
      },
      "outputs": [
        {
          "output_type": "stream",
          "name": "stdout",
          "text": [
            "Model: \"sequential\"\n",
            "_________________________________________________________________\n",
            " Layer (type)                Output Shape              Param #   \n",
            "=================================================================\n",
            " embedding (Embedding)       (None, 32, 8)             232       \n",
            "                                                                 \n",
            " conv1d (Conv1D)             (None, 32, 64)            2624      \n",
            "                                                                 \n",
            " max_pooling1d (MaxPooling1D  (None, 16, 64)           0         \n",
            " )                                                               \n",
            "                                                                 \n",
            " lstm (LSTM)                 (None, 32)                12416     \n",
            "                                                                 \n",
            " dense (Dense)               (None, 29)                957       \n",
            "                                                                 \n",
            "=================================================================\n",
            "Total params: 16,229\n",
            "Trainable params: 16,229\n",
            "Non-trainable params: 0\n",
            "_________________________________________________________________\n"
          ]
        }
      ],
      "source": [
        "from tensorflow.keras.models import Sequential\n",
        "from tensorflow.keras.layers import Embedding, Conv1D, MaxPool1D, LSTM\n",
        "from tensorflow.keras.layers import Bidirectional, Dense\n",
        "\n",
        "model = Sequential([\n",
        "    Embedding(num_chars, 8, input_length=max_len-1),\n",
        "    Conv1D(64,5,strides=1, activation='tanh', padding='causal'),\n",
        "    MaxPool1D(2),\n",
        "    LSTM(32),\n",
        "    Dense(num_chars, activation='softmax')\n",
        "])\n",
        "\n",
        "model.compile(\n",
        "    loss='sparse_categorical_crossentropy',\n",
        "    optimizer='adam',\n",
        "    metrics=['accuracy']\n",
        ")\n",
        "\n",
        "model.summary()"
      ]
    },
    {
      "cell_type": "markdown",
      "metadata": {
        "id": "79BrZs1hBfdM"
      },
      "source": [
        "## Task 7: Training the Model"
      ]
    },
    {
      "cell_type": "code",
      "execution_count": 22,
      "metadata": {
        "id": "j0Ssl4qupt22",
        "colab": {
          "base_uri": "https://localhost:8080/"
        },
        "outputId": "53cc6e53-c1f5-417d-ffda-3ae102d9cd06"
      },
      "outputs": [
        {
          "output_type": "stream",
          "name": "stdout",
          "text": [
            "Epoch 1/40\n",
            "2070/2070 - 25s - loss: 2.7359 - accuracy: 0.1899 - val_loss: 2.6030 - val_accuracy: 0.2252 - 25s/epoch - 12ms/step\n",
            "Epoch 2/40\n",
            "2070/2070 - 12s - loss: 2.5432 - accuracy: 0.2343 - val_loss: 2.5156 - val_accuracy: 0.2446 - 12s/epoch - 6ms/step\n",
            "Epoch 3/40\n",
            "2070/2070 - 11s - loss: 2.4740 - accuracy: 0.2544 - val_loss: 2.4636 - val_accuracy: 0.2551 - 11s/epoch - 5ms/step\n",
            "Epoch 4/40\n",
            "2070/2070 - 12s - loss: 2.4285 - accuracy: 0.2638 - val_loss: 2.4254 - val_accuracy: 0.2657 - 12s/epoch - 6ms/step\n",
            "Epoch 5/40\n",
            "2070/2070 - 13s - loss: 2.3920 - accuracy: 0.2741 - val_loss: 2.3997 - val_accuracy: 0.2741 - 13s/epoch - 6ms/step\n",
            "Epoch 6/40\n",
            "2070/2070 - 12s - loss: 2.3608 - accuracy: 0.2820 - val_loss: 2.3737 - val_accuracy: 0.2787 - 12s/epoch - 6ms/step\n",
            "Epoch 7/40\n",
            "2070/2070 - 12s - loss: 2.3337 - accuracy: 0.2884 - val_loss: 2.3574 - val_accuracy: 0.2828 - 12s/epoch - 6ms/step\n",
            "Epoch 8/40\n",
            "2070/2070 - 12s - loss: 2.3103 - accuracy: 0.2958 - val_loss: 2.3397 - val_accuracy: 0.2928 - 12s/epoch - 6ms/step\n",
            "Epoch 9/40\n",
            "2070/2070 - 13s - loss: 2.2866 - accuracy: 0.3045 - val_loss: 2.3213 - val_accuracy: 0.2963 - 13s/epoch - 6ms/step\n",
            "Epoch 10/40\n",
            "2070/2070 - 12s - loss: 2.2663 - accuracy: 0.3104 - val_loss: 2.3149 - val_accuracy: 0.3004 - 12s/epoch - 6ms/step\n",
            "Epoch 11/40\n",
            "2070/2070 - 12s - loss: 2.2480 - accuracy: 0.3158 - val_loss: 2.2961 - val_accuracy: 0.3068 - 12s/epoch - 6ms/step\n",
            "Epoch 12/40\n",
            "2070/2070 - 12s - loss: 2.2303 - accuracy: 0.3223 - val_loss: 2.2924 - val_accuracy: 0.3087 - 12s/epoch - 6ms/step\n",
            "Epoch 13/40\n",
            "2070/2070 - 13s - loss: 2.2145 - accuracy: 0.3282 - val_loss: 2.2733 - val_accuracy: 0.3186 - 13s/epoch - 6ms/step\n",
            "Epoch 14/40\n",
            "2070/2070 - 12s - loss: 2.1987 - accuracy: 0.3348 - val_loss: 2.2708 - val_accuracy: 0.3157 - 12s/epoch - 6ms/step\n",
            "Epoch 15/40\n",
            "2070/2070 - 12s - loss: 2.1847 - accuracy: 0.3398 - val_loss: 2.2620 - val_accuracy: 0.3200 - 12s/epoch - 6ms/step\n",
            "Epoch 16/40\n",
            "2070/2070 - 11s - loss: 2.1707 - accuracy: 0.3445 - val_loss: 2.2543 - val_accuracy: 0.3285 - 11s/epoch - 6ms/step\n",
            "Epoch 17/40\n",
            "2070/2070 - 12s - loss: 2.1568 - accuracy: 0.3507 - val_loss: 2.2467 - val_accuracy: 0.3308 - 12s/epoch - 6ms/step\n",
            "Epoch 18/40\n",
            "2070/2070 - 12s - loss: 2.1448 - accuracy: 0.3514 - val_loss: 2.2507 - val_accuracy: 0.3261 - 12s/epoch - 6ms/step\n",
            "Epoch 19/40\n",
            "2070/2070 - 11s - loss: 2.1322 - accuracy: 0.3573 - val_loss: 2.2371 - val_accuracy: 0.3353 - 11s/epoch - 6ms/step\n",
            "Epoch 20/40\n",
            "2070/2070 - 12s - loss: 2.1212 - accuracy: 0.3600 - val_loss: 2.2334 - val_accuracy: 0.3378 - 12s/epoch - 6ms/step\n",
            "Epoch 21/40\n",
            "2070/2070 - 12s - loss: 2.1106 - accuracy: 0.3638 - val_loss: 2.2353 - val_accuracy: 0.3358 - 12s/epoch - 6ms/step\n",
            "Epoch 22/40\n",
            "2070/2070 - 12s - loss: 2.1008 - accuracy: 0.3656 - val_loss: 2.2255 - val_accuracy: 0.3396 - 12s/epoch - 6ms/step\n",
            "Epoch 23/40\n",
            "2070/2070 - 12s - loss: 2.0914 - accuracy: 0.3708 - val_loss: 2.2229 - val_accuracy: 0.3401 - 12s/epoch - 6ms/step\n",
            "Epoch 24/40\n",
            "2070/2070 - 12s - loss: 2.0835 - accuracy: 0.3733 - val_loss: 2.2232 - val_accuracy: 0.3435 - 12s/epoch - 6ms/step\n",
            "Epoch 25/40\n",
            "2070/2070 - 11s - loss: 2.0751 - accuracy: 0.3759 - val_loss: 2.2225 - val_accuracy: 0.3410 - 11s/epoch - 5ms/step\n",
            "Epoch 26/40\n",
            "2070/2070 - 12s - loss: 2.0683 - accuracy: 0.3788 - val_loss: 2.2183 - val_accuracy: 0.3430 - 12s/epoch - 6ms/step\n",
            "Epoch 27/40\n",
            "2070/2070 - 12s - loss: 2.0611 - accuracy: 0.3800 - val_loss: 2.2181 - val_accuracy: 0.3447 - 12s/epoch - 6ms/step\n",
            "Epoch 28/40\n",
            "2070/2070 - 12s - loss: 2.0542 - accuracy: 0.3818 - val_loss: 2.2150 - val_accuracy: 0.3445 - 12s/epoch - 6ms/step\n",
            "Epoch 29/40\n",
            "2070/2070 - 12s - loss: 2.0477 - accuracy: 0.3840 - val_loss: 2.2180 - val_accuracy: 0.3459 - 12s/epoch - 6ms/step\n",
            "Epoch 30/40\n",
            "2070/2070 - 12s - loss: 2.0418 - accuracy: 0.3858 - val_loss: 2.2097 - val_accuracy: 0.3500 - 12s/epoch - 6ms/step\n",
            "Epoch 31/40\n",
            "2070/2070 - 11s - loss: 2.0351 - accuracy: 0.3899 - val_loss: 2.2101 - val_accuracy: 0.3491 - 11s/epoch - 5ms/step\n",
            "Epoch 32/40\n",
            "2070/2070 - 12s - loss: 2.0289 - accuracy: 0.3893 - val_loss: 2.2100 - val_accuracy: 0.3475 - 12s/epoch - 6ms/step\n",
            "Epoch 33/40\n",
            "2070/2070 - 12s - loss: 2.0230 - accuracy: 0.3901 - val_loss: 2.2105 - val_accuracy: 0.3513 - 12s/epoch - 6ms/step\n",
            "Epoch 34/40\n",
            "2070/2070 - 11s - loss: 2.0171 - accuracy: 0.3937 - val_loss: 2.2109 - val_accuracy: 0.3531 - 11s/epoch - 5ms/step\n",
            "Epoch 35/40\n",
            "2070/2070 - 11s - loss: 2.0119 - accuracy: 0.3953 - val_loss: 2.2022 - val_accuracy: 0.3546 - 11s/epoch - 6ms/step\n",
            "Epoch 36/40\n",
            "2070/2070 - 12s - loss: 2.0068 - accuracy: 0.3961 - val_loss: 2.2073 - val_accuracy: 0.3550 - 12s/epoch - 6ms/step\n",
            "Epoch 37/40\n",
            "2070/2070 - 12s - loss: 2.0025 - accuracy: 0.3985 - val_loss: 2.2073 - val_accuracy: 0.3511 - 12s/epoch - 6ms/step\n",
            "Epoch 38/40\n",
            "2070/2070 - 12s - loss: 1.9975 - accuracy: 0.3991 - val_loss: 2.2073 - val_accuracy: 0.3527 - 12s/epoch - 6ms/step\n",
            "Epoch 39/40\n",
            "2070/2070 - 12s - loss: 1.9922 - accuracy: 0.4010 - val_loss: 2.2088 - val_accuracy: 0.3530 - 12s/epoch - 6ms/step\n",
            "Epoch 40/40\n",
            "2070/2070 - 13s - loss: 1.9888 - accuracy: 0.4019 - val_loss: 2.2047 - val_accuracy: 0.3575 - 13s/epoch - 6ms/step\n"
          ]
        }
      ],
      "source": [
        "ttm=model.fit(\n",
        "    x_train, y_train,\n",
        "    validation_data=(x_test, y_test),\n",
        "    epochs=40, verbose=2,\n",
        "    callbacks=[\n",
        "        tf.keras.callbacks.EarlyStopping(monitor='val_accuracy', patience=5)\n",
        "    ]\n",
        ")"
      ]
    },
    {
      "cell_type": "code",
      "source": [
        "from matplotlib import pyplot as plt\n",
        "epochs_ran = len(ttm.history['loss'])\n",
        "plt.plot(range(0,epochs_ran), ttm.history['val_accuracy'], label='Validation')\n",
        "plt.plot(range(0,epochs_ran), ttm.history['accuracy'], label='Training')\n",
        "plt.legend()\n",
        "plt.show()"
      ],
      "metadata": {
        "colab": {
          "base_uri": "https://localhost:8080/",
          "height": 430
        },
        "id": "6fWjMPR6kgZV",
        "outputId": "1a5663f6-9a85-4522-c865-c2a620e51812"
      },
      "execution_count": 23,
      "outputs": [
        {
          "output_type": "display_data",
          "data": {
            "text/plain": [
              "<Figure size 640x480 with 1 Axes>"
            ],
            "image/png": "[encoded data removed]"
          },
          "metadata": {}
        }
      ]
    },
    {
      "cell_type": "markdown",
      "metadata": {
        "id": "8ArvGxMQBfdN"
      },
      "source": [
        "## Task 8: Generate Names!"
      ]
    },
    {
      "cell_type": "code",
      "execution_count": 48,
      "metadata": {
        "id": "9f50aTRcpt24"
      },
      "outputs": [],
      "source": [
        "import random\n",
        "def generate_names(letter):\n",
        "  for i in range(0,40):\n",
        "    seq = NameToSequence(letter)\n",
        "    padded=tf.keras.preprocessing.sequence.pad_sequences([seq],padding='pre', maxlen=max_len-1, truncating='pre')\n",
        "    pred=model.predict(padded)[0]\n",
        "    pred_char=index_to_char[tf.argmax(pred).numpy()]\n",
        "    # pred_weights = pred[:len(index_to_char)]\n",
        "    # pred_char=random.choices(list(index_to_char.values()), weights=pred_weights, k=1)[0]\n",
        "    letter+=pred_char\n",
        "    if pred_char=='\\t':\n",
        "      break\n",
        "  print(letter)"
      ]
    },
    {
      "cell_type": "code",
      "execution_count": 49,
      "metadata": {
        "id": "faQ0FInlpt26",
        "colab": {
          "base_uri": "https://localhost:8080/"
        },
        "outputId": "180fd13c-7d2c-4b2f-ae23-a6e90b0bd62f"
      },
      "outputs": [
        {
          "name": "stdout",
          "output_type": "stream",
          "text": [
            "Enter a letter: p\n"
          ]
        }
      ],
      "source": [
        "user_input = input(\"Enter a letter: \")"
      ]
    },
    {
      "cell_type": "code",
      "source": [
        "generate_names(user_input.lower())"
      ],
      "metadata": {
        "colab": {
          "base_uri": "https://localhost:8080/"
        },
        "id": "Hb31fb_NUpWx",
        "outputId": "08a9bca2-7e85-4f9f-ba52-4fe6ce4b7a96"
      },
      "execution_count": 50,
      "outputs": [
        {
          "output_type": "stream",
          "name": "stdout",
          "text": [
            "1/1 [==============================] - 0s 21ms/step\n",
            "1/1 [==============================] - 0s 21ms/step\n",
            "1/1 [==============================] - 0s 19ms/step\n",
            "1/1 [==============================] - 0s 20ms/step\n",
            "1/1 [==============================] - 0s 21ms/step\n",
            "1/1 [==============================] - 0s 22ms/step\n",
            "1/1 [==============================] - 0s 19ms/step\n",
            "1/1 [==============================] - 0s 20ms/step\n",
            "1/1 [==============================] - 0s 20ms/step\n",
            "1/1 [==============================] - 0s 18ms/step\n",
            "1/1 [==============================] - 0s 18ms/step\n",
            "1/1 [==============================] - 0s 17ms/step\n",
            "1/1 [==============================] - 0s 20ms/step\n",
            "1/1 [==============================] - 0s 20ms/step\n",
            "1/1 [==============================] - 0s 18ms/step\n",
            "1/1 [==============================] - 0s 21ms/step\n",
            "1/1 [==============================] - 0s 19ms/step\n",
            "1/1 [==============================] - 0s 21ms/step\n",
            "1/1 [==============================] - 0s 21ms/step\n",
            "princess the sarger\t\n"
          ]
        }
      ]
    },
    {
      "cell_type": "code",
      "source": [],
      "metadata": {
        "id": "3vlwjfN9XFMC"
      },
      "execution_count": 41,
      "outputs": []
    }
  ],
  "metadata": {
    "accelerator": "GPU",
    "colab": {
      "provenance": []
    },
    "kernelspec": {
      "display_name": "Python 3",
      "language": "python",
      "name": "python3"
    },
    "language_info": {
      "codemirror_mode": {
        "name": "ipython",
        "version": 3
      },
      "file_extension": ".py",
      "mimetype": "text/x-python",
      "name": "python",
      "nbconvert_exporter": "python",
      "pygments_lexer": "ipython3",
      "version": "3.8.3"
    }
  },
  "nbformat": 4,
  "nbformat_minor": 0
}